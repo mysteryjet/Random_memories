{
 "cells": [
  {
   "cell_type": "code",
   "execution_count": 1,
   "id": "151e66eb-1182-46ad-a19a-6be9df8e8978",
   "metadata": {},
   "outputs": [],
   "source": [
    "import numpy as np"
   ]
  },
  {
   "cell_type": "code",
   "execution_count": 32,
   "id": "d73645d4-d5ee-45f0-8699-9d603eaddef8",
   "metadata": {},
   "outputs": [
    {
     "name": "stdout",
     "output_type": "stream",
     "text": [
      "[ 2. -3. -6. -5. -4.]\n",
      "Matriz [[ 3 -9  5  2  2]\n",
      " [ 9 -3 -8 -2  4]\n",
      " [-5  4  4  2  6]\n",
      " [ 4  7  7  5  8]\n",
      " [ 4  4  5  1  5]]\n",
      "Vector [ -15   69  -80 -112  -59]\n"
     ]
    },
    {
     "data": {
      "text/plain": [
       "'for k in range (N):\\n    for i in range(len(b)):\\n        x[i]=(b[i]-np.sum(A[i][:i]*x[:i])-np.sum(A[i][i+1:]*x[i+1:]))/A[i][i]\\n    e = np.linalg.norm(A@x-b)\\n    print(k,x,e)\\n    if e<1e-6:\\n        break'"
      ]
     },
     "execution_count": 32,
     "metadata": {},
     "output_type": "execute_result"
    }
   ],
   "source": [
    "A = np.array([[3,-9,5,2,2],[9,-3,-8,-2,4],[-5,4,4,2,6],[4,7,7,5,8],[4,4,5,1,5]])#matriz A\n",
    "b = np.array([-15,69,-80,-112,-59])# vector b\n",
    "# x = np.zeros_like(b) #se le da valores iniciales a x\n",
    "x=np.linalg.solve(A,b)\n",
    "print(x)\n",
    "# N = 100 #cuántas iteraciones van haber\n",
    "print(\"Matriz\",A)\n",
    "print(\"Vector\",b)\n",
    "'''for k in range (N):\n",
    "    for i in range(len(b)):\n",
    "        x[i]=(b[i]-np.sum(A[i][:i]*x[:i])-np.sum(A[i][i+1:]*x[i+1:]))/A[i][i]\n",
    "    e = np.linalg.norm(A@x-b)\n",
    "    print(k,x,e)\n",
    "    if e<1e-6:\n",
    "        break'''\n",
    "\n",
    "    "
   ]
  }
 ],
 "metadata": {
  "kernelspec": {
   "display_name": "Python 3 (ipykernel)",
   "language": "python",
   "name": "python3"
  },
  "language_info": {
   "codemirror_mode": {
    "name": "ipython",
    "version": 3
   },
   "file_extension": ".py",
   "mimetype": "text/x-python",
   "name": "python",
   "nbconvert_exporter": "python",
   "pygments_lexer": "ipython3",
   "version": "3.9.7"
  }
 },
 "nbformat": 4,
 "nbformat_minor": 5
}
