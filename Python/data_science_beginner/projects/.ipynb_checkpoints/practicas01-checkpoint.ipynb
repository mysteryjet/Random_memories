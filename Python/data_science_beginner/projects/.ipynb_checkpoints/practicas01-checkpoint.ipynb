{
 "cells": [
  {
   "cell_type": "code",
   "execution_count": 10,
   "id": "24a6dbba-c910-4930-9f26-1e97123a0d11",
   "metadata": {},
   "outputs": [
    {
     "name": "stdin",
     "output_type": "stream",
     "text": [
      "Ingresa la cantidad de filas/renglones de tu matriz:  3\n",
      "Ingresa la cantidad de columnas de tu matriz:  3\n",
      "[1],[1]:  2\n",
      "[1],[2]:  3\n",
      "[1],[3]:  4\n",
      "[2],[1]:  5\n",
      "[2],[2]:  6\n",
      "[2],[3]:  7\n",
      "[3],[1]:  7\n",
      "[3],[2]:  8\n",
      "[3],[3]:  9\n"
     ]
    },
    {
     "name": "stdout",
     "output_type": "stream",
     "text": [
      "[[2.0, 3.0, 4.0], [5.0, 6.0, 7.0], [7.0, 8.0, 9.0]]\n"
     ]
    }
   ],
   "source": [
    "#solicitar renglones/filas\n",
    "f = int(input(\"Ingresa la cantidad de filas/renglones de tu matriz: \"))\n",
    "#solicitar columnas\n",
    "c= int(input(\"Ingresa la cantidad de columnas de tu matriz: \"))\n",
    "matriz = []\n",
    "for i in range(f):\n",
    "    matriz.append([])\n",
    "    for j in range(c):\n",
    "        valor = float(input(\"[{0}],[{1}]: \".format(i+1, j+1)))\n",
    "        matriz[i].append(valor)\n",
    "print(matriz)"
   ]
  }
 ],
 "metadata": {
  "kernelspec": {
   "display_name": "Python 3 (ipykernel)",
   "language": "python",
   "name": "python3"
  },
  "language_info": {
   "codemirror_mode": {
    "name": "ipython",
    "version": 3
   },
   "file_extension": ".py",
   "mimetype": "text/x-python",
   "name": "python",
   "nbconvert_exporter": "python",
   "pygments_lexer": "ipython3",
   "version": "3.9.7"
  }
 },
 "nbformat": 4,
 "nbformat_minor": 5
}
